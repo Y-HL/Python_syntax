{
 "cells": [
  {
   "cell_type": "markdown",
   "metadata": {},
   "source": [
    "URL:https://stackoverflow.com/questions/6325216/parse-html-table-to-python-list"
   ]
  },
  {
   "cell_type": "code",
   "execution_count": 33,
   "metadata": {},
   "outputs": [
    {
     "name": "stdout",
     "output_type": "stream",
     "text": [
      "Event,Start Date,End Date,\n",
      "a,b,c,\n",
      "d,e,f,\n",
      "g,h,i,\n"
     ]
    }
   ],
   "source": [
    "from lxml import etree\n",
    "s = \"\"\"\n",
    "<table>\n",
    "  <tr><th>Event</th><th>Start Date</th><th>End Date</th></tr>\n",
    "  <tr><td>a</td><td>b</td><td>c</td></tr>\n",
    "  <tr><td>d</td><td>e</td><td>f</td></tr>\n",
    "  <tr><td>g</td><td>h</td><td>i</td></tr>\n",
    "</table>\n",
    "\"\"\"\n",
    "table = etree.HTML(s).find(\"body/table\")\n",
    "\n",
    "for i in range(4):\n",
    "    for j in range(3):\n",
    "        print(table[i][j].text,end=',')\n",
    "    print('')"
   ]
  },
  {
   "cell_type": "code",
   "execution_count": 70,
   "metadata": {},
   "outputs": [
    {
     "name": "stdout",
     "output_type": "stream",
     "text": [
      "Event,Start Date,End Date,\n",
      "a,b,c,\n",
      "d,e,f,\n",
      "g,h,i,\n"
     ]
    }
   ],
   "source": [
    "from bs4 import BeautifulSoup\n",
    "s = \"\"\"\n",
    "<table>\n",
    "  <tr><th>Event</th><th>Start Date</th><th>End Date</th></tr>\n",
    "  <tr><td>a</td><td>b</td><td>c</td></tr>\n",
    "  <tr><td>d</td><td>e</td><td>f</td></tr>\n",
    "  <tr><td>g</td><td>h</td><td>i</td></tr>\n",
    "</table>\n",
    "\"\"\"\n",
    "table = BeautifulSoup(s,'html.parser').select('tr')\n",
    "\n",
    "for i in table[0].select('th'):\n",
    "    print(i.text,end=',')\n",
    "print('')\n",
    "\n",
    "for i in range(1,len(table)):   \n",
    "    for j in range(len(table[i].select('td'))):\n",
    "        print(table[i].select('td')[j].text,end=',')\n",
    "    print('')\n"
   ]
  }
 ],
 "metadata": {
  "kernelspec": {
   "display_name": "Python 3",
   "language": "python",
   "name": "python3"
  },
  "language_info": {
   "codemirror_mode": {
    "name": "ipython",
    "version": 3
   },
   "file_extension": ".py",
   "mimetype": "text/x-python",
   "name": "python",
   "nbconvert_exporter": "python",
   "pygments_lexer": "ipython3",
   "version": "3.7.7"
  }
 },
 "nbformat": 4,
 "nbformat_minor": 4
}
